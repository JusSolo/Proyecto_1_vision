{
 "cells": [
  {
   "cell_type": "code",
   "execution_count": 1,
   "id": "13cfd04a-f160-4d9a-ab0b-73eda94e66c7",
   "metadata": {},
   "outputs": [],
   "source": [
    "from skimage import morphology as mo\n",
    "import numpy as np\n",
    "import matplotlib.pyplot as plt\n",
    "from PIL import Image\n",
    "from skimage.morphology import skeletonize , medial_axis\n",
    "from skimage.util import invert\n",
    "from scipy import ndimage as ndi\n",
    "import cv2 as cv\n",
    "import skimage as ski\n",
    "from scipy.ndimage import uniform_filter\n",
    "\n"
   ]
  },
  {
   "cell_type": "code",
   "execution_count": 2,
   "id": "5c769bf5-2a15-4259-8a81-2f64b63c4fb8",
   "metadata": {},
   "outputs": [],
   "source": [
    "I = plt.imread('database/14.pgm')\n",
    "I_2 = plt.imread('database/14_gt.pgm')\n",
    "I = I.astype(np.float32) \n",
    "I = (I - I.min()) / (I.max() - I.min())\n",
    "I_2 = I_2.astype(np.float32) \n",
    "I_2 = (I_2 - I_2.min()) / (I_2.max() - I_2.min())"
   ]
  },
  {
   "cell_type": "code",
   "execution_count": null,
   "id": "ca6270c8-374d-43e4-86f4-0ba931944495",
   "metadata": {},
   "outputs": [],
   "source": [
    "plt.figure(figsize=(200,200))\n",
    "plt.subplot(1,2,1) \n",
    "plt.imshow(I_2,cmap='gray', vmin=0, vmax=255)\n",
    "plt.subplot(1,2,2)                                 \n",
    "plt.imshow(I,cmap='gray', vmin=0, vmax=255)\n",
    "plt.show()"
   ]
  },
  {
   "cell_type": "code",
   "execution_count": null,
   "id": "71e88b69-febb-4902-a61e-6b7dbce89658",
   "metadata": {},
   "outputs": [],
   "source": [
    "print(I.shape)"
   ]
  },
  {
   "cell_type": "code",
   "execution_count": null,
   "id": "78e34203-c9cf-480a-9144-59a9a43007a6",
   "metadata": {},
   "outputs": [],
   "source": [
    "# Th de Sauvola\n",
    "def ThSauvola(I,w = 12 , k= 0.2, R=128):\n",
    "    I = I.astype(np.float32)\n",
    "    \n",
    "    mu = uniform_filter(I, w, mode='reflect')\n",
    "    \n",
    "    mu_sq = uniform_filter(I**2, w, mode='reflect')\n",
    "    s = np.sqrt(mu_sq - mu**2)\n",
    "\n",
    "    Th = mu * (1 + k * ((s / R) - 1))\n",
    "    return (I> Th).astype(np.uint8)*255, Th\n",
    "\n",
    "# filtro gaureano de perfil (no lo uso pero por si les sirve) se supone que detecta estructuras tubulares\n",
    "def gausP (K,sig=1,teta=45):\n",
    "    gau = lambda x: 1/((np.pi*2)**0.5*sig)*np.exp(-x**2/2*sig**2)\n",
    "    \n",
    "    grid = np.zeros((2 * K + 1, 2 * K + 1))\n",
    "\n",
    "    # Convertir el ángulo a radianes\n",
    "    teta_rad = np.deg2rad(teta)\n",
    "\n",
    "    # Calcular el filtro inclinado aplicando la rotación\n",
    "    for i in range(-K, K + 1):\n",
    "        for j in range(-K, K + 1):\n",
    "            # Rotar las coordenadas (x', y') = (x * cosθ - y * sinθ, x * sinθ + y * cosθ)\n",
    "            x_rot = i * np.cos(teta_rad) + j * np.sin(teta_rad)\n",
    "            grid[i + K, j + K] = gau(x_rot)\n",
    "\n",
    "    # Normalizar el filtro para que la suma sea 1\n",
    "    grid /= np.sum(grid)\n",
    "    \n",
    "\n",
    "    return grid\n",
    "\n",
    "# Ejemplo de\n",
    "filtro = gausP(10, sig=1/4, teta=90)\n",
    "#Mostrar el filtro\n",
    "plt.imshow(filtro, cmap='gray', interpolation='nearest')\n",
    "plt.colorbar()\n",
    "plt.title(f'Filtro Gaussiano Inclinado {90}°')\n",
    "plt.show()\n",
    "    "
   ]
  },
  {
   "cell_type": "code",
   "execution_count": null,
   "id": "8a0dda2b-a60c-4a92-b214-d0ff96bafb99",
   "metadata": {},
   "outputs": [],
   "source": [
    "I = plt.imread('database/14.pgm')\n",
    "S = cv.getStructuringElement(cv.MORPH_ELLIPSE,(15,15)) #44 #44\n",
    "S2 = cv.getStructuringElement(cv.MORPH_ELLIPSE,(5,5))\n",
    "#T = cv.morphologyEx(I,cv.MORPH_BLACKHAT,S) #HACE EL TRABAJO PERO CON MUCHO RUIDO\n",
    "d = 5\n",
    "f = np.array(([0,  -1 ,  0],  \n",
    "            [-1  , 5 , -1 ] ,\n",
    "            [0,  -1 ,  0]),dtype=\"int\" ) \n",
    "\n",
    "\n",
    "#I = cv.filter2D(I,-1,f)\n",
    "\n",
    "#I = cv.morphologyEx(I, cv.MORPH_CLOSE, S2)\n",
    "I = cv.medianBlur(I, 7)\n",
    "#I = cv.dilate(I, S2, iterations=3)\n",
    "#I = cv.filter2D(I,-1,f)\n",
    "#I = cv.(I, S2, iterations=3)\n",
    "\n",
    "#I = cv.dilate(I, S2, iterations=1)\n",
    "#I = cv.GaussianBlur(I,(21,21),0)\n",
    "#I = cv.filter2D(I,-1,f)\n",
    "I = cv.morphologyEx(I,cv.MORPH_OPEN,S2) #HACE EL TRABAJO mejor despues de un afilado\n",
    "\n",
    "#T = cv.filter2D(T,-1,f)\n",
    "#T, t  = ThLocal(I, 50,50)\n",
    "#T ,i ,ii = ThRC(I)\n",
    "\n",
    "T, th = ThSauvola(I,k=0.022, R = 128)#ski.exposure.equalize_hist(I, nbins=256, mask=None) k = 0.03\n",
    "T = cv.morphologyEx(T,cv.MORPH_BLACKHAT,S) #HACE EL TRABAJO PERO CON MUCHO RUIDO\n",
    "#T = cv.medianBlur(T, 3)\n",
    "\n",
    "\n",
    "\n",
    "plt.figure(figsize=(50,50))\n",
    "plt.subplot(1,2,1) \n",
    "plt.imshow(T,cmap='gray', vmin=0, vmax=255)\n",
    "plt.subplot(1,2,2)                                 \n",
    "plt.imshow(I,cmap='gray', vmin=0, vmax=255)\n",
    "plt.show()"
   ]
  },
  {
   "cell_type": "code",
   "execution_count": null,
   "id": "fc179db9-58e2-449d-a736-e9f5839ac1d5",
   "metadata": {},
   "outputs": [],
   "source": [
    "I_2 = plt.imread('database/14_gt.pgm')\n",
    "plt.figure(figsize=(50,50))\n",
    "plt.subplot(1,2,1) \n",
    "plt.imshow(T,cmap='gray', vmin=0, vmax=255)\n",
    "plt.subplot(1,2,2)                                 \n",
    "plt.imshow(I_2,cmap='gray', vmin=0, vmax=255)\n",
    "plt.show()"
   ]
  },
  {
   "cell_type": "code",
   "execution_count": null,
   "id": "fe0f3f2d-7f44-4891-85bd-92b807810880",
   "metadata": {},
   "outputs": [],
   "source": [
    "from skimage.filters.thresholding import threshold_otsu\n",
    "import numpy as np\n",
    "import matplotlib.pyplot as plt\n",
    "import skimage as ski\n",
    "from skimage.measure import label, regionprops\n",
    "from PIL import Image\n",
    "import cv2 as cv"
   ]
  },
  {
   "cell_type": "code",
   "execution_count": null,
   "id": "34f61310-69e7-4946-ba95-e3df89afe5ea",
   "metadata": {},
   "outputs": [],
   "source": [
    "S2 = cv.getStructuringElement(cv.MORPH_ELLIPSE,(5,5))\n",
    "I2 = 255 - I\n",
    "for x in range(0, 4):\n",
    "    I2 = cv.erode(I2, S2, iterations=1)\n",
    "    I2 = cv.dilate(I2, S2, iterations=1)\n",
    "\n",
    "plt.figure(figsize=(50,50))\n",
    "plt.subplot(1,2,1) \n",
    "plt.imshow(I2,cmap='gray', vmin=0, vmax=255)\n",
    "plt.subplot(1,2,2)                                 \n",
    "plt.imshow(255-I,cmap='gray', vmin=0, vmax=255)\n",
    "plt.show()"
   ]
  },
  {
   "cell_type": "code",
   "execution_count": null,
   "id": "0a6c180f-41a8-4898-9390-d8efa2f99a37",
   "metadata": {},
   "outputs": [],
   "source": [
    "kernel = np.ones((1,1), np.uint8)  # You can adjust the size of the kernel\n",
    "Ith2 = cv.morphologyEx(I, cv.MORPH_CLOSE, kernel)\n",
    "plt.title(\"Otsu\")\n",
    "plt.imshow(Ith2, cmap='gray', vmin=0, vmax=255)\n",
    "plt.show()"
   ]
  },
  {
   "cell_type": "code",
   "execution_count": null,
   "id": "b68a7b08-ffcb-4e52-805d-d02dbc15034c",
   "metadata": {},
   "outputs": [],
   "source": [
    "from skimage.filters import threshold_otsu, threshold_niblack\n",
    "thresh2 = threshold_niblack(I2, window_size=1, k=2)\n",
    "kernel = np.ones((1,1), np.uint8)  # You can adjust the size of the kernel\n",
    "Ith2 = cv.morphologyEx(thresh2, cv.MORPH_CLOSE, kernel)\n",
    "plt.figure(figsize=(50,50))\n",
    "plt.subplot(1,2,1) \n",
    "plt.imshow(thresh2,cmap='gray', vmin=0, vmax=255)\n",
    "plt.subplot(1,2,2)                                 \n",
    "plt.imshow(Ith2,cmap='gray', vmin=0, vmax=255)\n",
    "plt.show()"
   ]
  },
  {
   "cell_type": "code",
   "execution_count": null,
   "id": "61de9d6f-30d7-4b99-8988-565a721cf338",
   "metadata": {},
   "outputs": [],
   "source": [
    "filtro = gausP(5, sig=1/3, teta=-45)\n",
    "plt.imshow(filtro)"
   ]
  },
  {
   "cell_type": "code",
   "execution_count": null,
   "id": "ca31e6a3-5d35-436d-9359-ef0499feba44",
   "metadata": {},
   "outputs": [],
   "source": [
    "# Inicializar imagen de respuesta combinada\n",
    "I_combined = np.zeros_like(I2, dtype=np.float32)\n",
    "\n",
    "# Aplicar filtros en el rango [0, π] con pasos de 15°\n",
    "angles = np.arange(0, 181, 15)  # De 0° a 180° (equivalente a 0 a π en radianes)\n",
    "for teta in angles:\n",
    "    filtro = gausP(10, sig=1/4, teta=teta)\n",
    "    I_filtered = cv.filter2D(I2, -1, filtro)\n",
    "    I_combined = np.maximum(I_combined, I_filtered)  # Tomar el máximo entre todas las respuestas\n",
    "\n",
    "# Normalizar la imagen combinada al rango [0, 255]\n",
    "I_combined = cv.normalize(I_combined, None, 0, 255, cv.NORM_MINMAX).astype(np.uint8)\n",
    "\n",
    "thresh1 = threshold_niblack(I_combined, window_size=1, k=2)\n",
    "\n",
    "# Mostrar resultados\n",
    "plt.figure(figsize=(12, 5))\n",
    "plt.subplot(1, 3, 1)\n",
    "plt.title(\"Imagen Original\")\n",
    "plt.imshow(I2, cmap='gray')\n",
    "\n",
    "plt.subplot(1, 3, 2)\n",
    "plt.title(\"Respuesta Combinada de Filtros\")\n",
    "plt.imshow(I_combined, cmap='gray')\n",
    "\n",
    "plt.subplot(1, 3, 3)\n",
    "plt.title(\"Segmentación de Estructuras Tubulares\")\n",
    "plt.imshow(thresh1, cmap='gray')\n",
    "plt.show()\n"
   ]
  },
  {
   "cell_type": "code",
   "execution_count": null,
   "id": "ee5d384e-6150-44fd-a2c4-384bf11d2f91",
   "metadata": {},
   "outputs": [],
   "source": [
    "import numpy as np\n",
    "import cv2 as cv\n",
    "import matplotlib.pyplot as plt\n",
    "from scipy.ndimage import uniform_filter\n",
    "\n",
    "def ThSauvola(I,w = 12 , k= 0.2, R=128):\n",
    "    I = I.astype(np.float32)\n",
    "    \n",
    "    mu = uniform_filter(I, w, mode='reflect')\n",
    "    \n",
    "    mu_sq = uniform_filter(I**2, w, mode='reflect')\n",
    "    s = np.sqrt(mu_sq - mu**2)\n",
    "\n",
    "    Th = mu * (1 + k * ((s / R) - 1))\n",
    "    return (I > Th).astype(np.uint8)*255, Th\n",
    "\n",
    "def ThNiblack(I, w=15, k=-0.2):\n",
    "    \"\"\" Niblack's thresholding. \"\"\"\n",
    "    I = I.astype(np.float32)\n",
    "    mu = uniform_filter(I, w, mode='reflect')\n",
    "    mu_sq = uniform_filter(I**2, w, mode='reflect')\n",
    "    sigma = np.sqrt(mu_sq - mu**2)\n",
    "    Th = mu + k * sigma\n",
    "    return (I > T).astype(np.uint8) * 255, Th\n",
    "\n",
    "def ThWolfJolion(I, w=15, k=0.5, R=128):\n",
    "    \"\"\" Wolf-Jolion thresholding. \"\"\"\n",
    "    I = I.astype(np.float32)\n",
    "    mu = uniform_filter(I, w, mode='reflect')\n",
    "    mu_sq = uniform_filter(I**2, w, mode='reflect')\n",
    "    sigma = np.sqrt(mu_sq - mu**2)\n",
    "    min_I = np.min(I)\n",
    "    Th = (1 - k) * mu + k * ((mu - min_I) / (R - min_I)) * sigma\n",
    "    return (I > Th).astype(np.uint8) * 255, Th\n",
    "\n",
    "def ThBernsen(I, w=15, Cmin=15):\n",
    "    \"\"\" Bernsen's thresholding. \"\"\"\n",
    "    half_w = w // 2\n",
    "    T = np.zeros_like(I, dtype=np.float32)\n",
    "    for i in range(half_w, I.shape[0] - half_w):\n",
    "        for j in range(half_w, I.shape[1] - half_w):\n",
    "            local_region = I[i - half_w:i + half_w + 1, j - half_w:j + half_w + 1]\n",
    "            Imax, Imin = np.max(local_region), np.min(local_region)\n",
    "            if (Imax - Imin) < Cmin:\n",
    "                T[i, j] = 128  # Default global threshold\n",
    "            else:\n",
    "                T[i, j] = (Imax + Imin) / 2\n",
    "    return (I > T).astype(np.uint8) * 255, 0\n",
    "\n",
    "def ThPhansalkar(I, w=15, k=0.25, R=128, p=2, q=10):\n",
    "    \"\"\" Phansalkar's thresholding. \"\"\"\n",
    "    I = I.astype(np.float32)\n",
    "    mu = uniform_filter(I, w, mode='reflect')\n",
    "    mu_sq = uniform_filter(I**2, w, mode='reflect')\n",
    "    sigma = np.sqrt(mu_sq - mu**2)\n",
    "    Th = mu * (1 + p * np.exp(-q * mu) + k * ((sigma / R) - 1))\n",
    "    return (I > Th).astype(np.uint8) * 255, Th\n",
    "\n",
    "def ThAdaptiveMean(I, w=15):\n",
    "    \"\"\" Adaptive mean thresholding. \"\"\"\n",
    "    I = I.astype(np.float32)\n",
    "    Th = uniform_filter(I, w, mode='reflect')\n",
    "    return (I > Th).astype(np.uint8) * 255, Th\n",
    "\n",
    "\n",
    "def ThContrastAdaptive(I, w=15, Cmin=15, erosion_iter=1):\n",
    "    \"\"\" Contrast-based adaptive thresholding with erosion. \"\"\"\n",
    "    half_w = w // 2\n",
    "    T = np.zeros_like(I, dtype=np.float32)\n",
    "    for i in range(half_w, I.shape[0] - half_w):\n",
    "        for j in range(half_w, I.shape[1] - half_w):\n",
    "            local_region = I[i - half_w:i + half_w + 1, j - half_w:j + half_w + 1]\n",
    "            Imax = np.max(local_region)\n",
    "            T[i, j] = Imax - Cmin\n",
    "    return (I > T).astype(np.uint8) * 255, 0\n",
    "\n",
    "def ThGaussianWeighted(I, w=15, sigma=5):\n",
    "    \"\"\" Gaussian weighted local thresholding. \"\"\"\n",
    "    I = I.astype(np.float32)\n",
    "    Th = cv.GaussianBlur(I, (w, w), sigma)\n",
    "    return (I > Th).astype(np.uint8) * 255, Th\n",
    "\n",
    "def display_results(I, methods, fileName):\n",
    "    \"\"\" Display original and thresholded images. \"\"\"\n",
    "    results = {}\n",
    "    plt.figure(figsize=(12, 8))\n",
    "    plt.subplot(3, 3, 1)\n",
    "    has_gt = True\n",
    "    try:\n",
    "        plt.title(f\"Manual Filtered Image\")\n",
    "        filtered = plt.imread(f'{os.curdir}/database/{fileName.split(\".\")[0]+\"_gt.\"+fileName.split(\".\")[1]}')\n",
    "        plt.imshow(filtered, cmap='gray')\n",
    "        results['manual_filtered_image'] = filtered\n",
    "    except:\n",
    "        plt.title(f\"Original Image\")\n",
    "        plt.imshow(I, cmap='gray')\n",
    "        has_gt = False\n",
    "\n",
    "    for i, (name, method) in enumerate(methods.items()):\n",
    "        plt.subplot(3, 3, i + 2)\n",
    "        plt.title(name)\n",
    "        I2, th = method(I)\n",
    "        if has_gt:\n",
    "            results[method.__name__] =255-I2\n",
    "        plt.imshow(255-I2, cmap='gray')\n",
    "    \n",
    "    plt.tight_layout()\n",
    "    plt.show()\n",
    "    return results"
   ]
  },
  {
   "cell_type": "code",
   "execution_count": null,
   "id": "62719c1d-9747-4962-b11e-c5c775aad1d6",
   "metadata": {},
   "outputs": [],
   "source": [
    "# Define thresholding methods\n",
    "methods = {\n",
    "    \"Sauvola\": ThSauvola,\n",
    "    \"Niblack\": ThNiblack,\n",
    "    \"Wolf-Jolion\": ThWolfJolion,\n",
    "    \"Bernsen\": ThBernsen,\n",
    "    \"Phansalkar\": ThPhansalkar,\n",
    "    \"Adaptive Mean\": ThAdaptiveMean,\n",
    "    \"Contrast Adaptive\": ThContrastAdaptive,\n",
    "    \"Gaussian Weighted\": ThGaussianWeighted,\n",
    "}\n",
    "I = plt.imread('database/14.pgm')\n",
    "# Display results\n",
    "display_results(I, methods, 'database/14.pgm')"
   ]
  },
  {
   "cell_type": "code",
   "execution_count": null,
   "id": "27b3f8a7-40b4-4014-aef9-3547d8b46be2",
   "metadata": {
    "scrolled": true
   },
   "outputs": [],
   "source": [
    "import os\n",
    "import re\n",
    "results = {}\n",
    "for file in os.listdir(f'{os.curdir}/database'):\n",
    "    if not re.search(r\"(_gt|.ipynb)\", file):\n",
    "        I = plt.imread(f'{os.curdir}/database/{file}')\n",
    "        # Display results\n",
    "        results[file] = display_results(I, methods, file)\n",
    "        "
   ]
  },
  {
   "cell_type": "code",
   "execution_count": null,
   "id": "d259cb33-2250-4e6a-835c-f17de68dc5ec",
   "metadata": {},
   "outputs": [],
   "source": [
    "import pandas as pd\n",
    "data = pd.DataFrame(data = results)\n",
    "data"
   ]
  },
  {
   "cell_type": "code",
   "execution_count": null,
   "id": "1a94971e-cb46-49dd-b69e-3fe2fdc6a1aa",
   "metadata": {},
   "outputs": [],
   "source": [
    "def pivot_table(dataframe):\n",
    "    newDf = pd.DataFrame(index=dataframe.columns, columns=dataframe.index)\n",
    "    for index in dataframe.index:\n",
    "        newDf[index] = dataframe.loc[index]\n",
    "    \n",
    "    return newDf"
   ]
  },
  {
   "cell_type": "code",
   "execution_count": null,
   "id": "fc26c84d-0e46-4fcf-b126-d7bc31d08750",
   "metadata": {},
   "outputs": [],
   "source": [
    "pivoted_data = pivot_table(data)\n",
    "pivoted_data"
   ]
  },
  {
   "cell_type": "code",
   "execution_count": null,
   "id": "f033b486-5747-40a4-ad5c-3e08bc667ab9",
   "metadata": {},
   "outputs": [],
   "source": [
    "def calculate_accuracy(im1, im2):\n",
    "    correct_pixels = np.sum(im1 == im2)\n",
    "    TP = np.sum((im1 == 255) & (im2 == 255))\n",
    "    FP = np.sum((im1 == 255) & (im2 == 0))\n",
    "    FN = np.sum((im1 == 0) & (im2 == 255))\n",
    "    TN = np.sum((im1 == 0) & (im2 == 0))\n",
    "    total_pixels = im1.size\n",
    "    return correct_pixels / total_pixels\n",
    "\n",
    "def calculate_recall(im1, im2):\n",
    "    TP = np.sum((im1 == 255) & (im2 == 255))\n",
    "    FN = np.sum((im1 == 0) & (im2 == 255))\n",
    "    return TP / (TP + FN) if (TP + FN) != 0 else 0 \n",
    "    \n",
    "def calculate_specificity(im1, im2):\n",
    "    TN = np.sum((im1 == 0) & (im2 == 0))\n",
    "    FP = np.sum((im1 == 255) & (im2 == 0))\n",
    "    return TN / (TN + FP) if (TN + FP) != 0 else 0 \n",
    "\n",
    "def calculate_precision(im1, im2):\n",
    "    TP = np.sum((im1 == 255) & (im2 == 255))\n",
    "    FP = np.sum((im1 == 255) & (im2 == 0))\n",
    "    return TP / (TP + FP) if (TP + FP) != 0 else 0 \n",
    "\n",
    "def calculate_f1_score(im1, im2):\n",
    "    precision = calculate_precision(im1, im2)\n",
    "    recall = calculate_recall(im1, im2)\n",
    "    return 2 * (precision * recall) / (precision + recall) if (precision + recall) != 0 else 0\n",
    " "
   ]
  },
  {
   "cell_type": "code",
   "execution_count": null,
   "id": "4e423674-fb26-4d84-ab11-878e365fa53c",
   "metadata": {},
   "outputs": [],
   "source": [
    "def calculate_metrics(dataframe):\n",
    "    metrics = pd.DataFrame(columns = ['image', 'threshold', 'accuracy', 'recall', 'specificity', 'precision', 'f1'])\n",
    "    metodos = [\"manual\",\"Sauvola\",\"Niblack\",\"Wolf-Jolion\",\"Bernsen\",\"Phansalkar\",\"Adaptive Mean\",\"Contrast Adaptive\",\"Gaussian Weighted\"]\n",
    "    \n",
    "    for index in dataframe.index:\n",
    "        row = dataframe.loc[index]\n",
    "        manual_filtered_image = row[0]  # Assuming the first column is the manually thresholded image\n",
    "        \n",
    "        # Loop through methods (columns from 1 to the last column)\n",
    "        for i in range(1, len(row)):\n",
    "            method = metodos[i]  # Get the method name\n",
    "            image_method = row[i]\n",
    "            \n",
    "            TP = np.sum((image_method == 255) & (manual_filtered_image == 255)) # True positives\n",
    "            FP = np.sum((image_method == 255) & (manual_filtered_image == 0)) # False positives\n",
    "            FN = np.sum((image_method == 0) & (manual_filtered_image == 255)) # False negatives\n",
    "            TN = np.sum((image_method == 0) & (manual_filtered_image == 0)) # True negatives\n",
    "            accuracy = (TP + TN) / (TP + TN + FP + FN)\n",
    "            precision = TP / (TP + FP)\n",
    "            recall = TP / (TP + FN)\n",
    "            specificity = TN / (TN + FP)\n",
    "            f1 = 2 * precision * recall / (precision + recall)            \n",
    "            # Create a new row with calculated metrics\n",
    "            new_row = pd.DataFrame([[index, method, accuracy, recall, specificity, precision, f1]], \n",
    "                                   columns=metrics.columns)\n",
    "            \n",
    "            # Append the new row to the metrics DataFrame\n",
    "            metrics = pd.concat([metrics, new_row], ignore_index=True)\n",
    "    \n",
    "    return metrics"
   ]
  },
  {
   "cell_type": "code",
   "execution_count": null,
   "id": "23f59d7a-e304-4193-92dd-16461ff04dc6",
   "metadata": {
    "scrolled": true
   },
   "outputs": [],
   "source": [
    "metrics = calculate_metrics(pivoted_data)\n",
    "metrics"
   ]
  },
  {
   "cell_type": "code",
   "execution_count": null,
   "id": "94dfe72d-6cb3-474c-9f1d-6bbcf68c85d1",
   "metadata": {},
   "outputs": [],
   "source": [
    "metrics[metrics['image']=='8.pgm']"
   ]
  },
  {
   "cell_type": "code",
   "execution_count": null,
   "id": "2ae270f4-fd96-4971-9493-f1d620f83b12",
   "metadata": {},
   "outputs": [],
   "source": [
    "metrics[[\"threshold\",'accuracy',\t'recall',\t'specificity',\t'precision',\t'f1']].groupby('threshold').mean()"
   ]
  },
  {
   "cell_type": "code",
   "execution_count": null,
   "id": "8e6b6898-bad4-47ab-815b-7c33d5ca126a",
   "metadata": {},
   "outputs": [],
   "source": [
    "np.sum((pivoted_data.loc['8.pgm']['ThContrastAdaptive'] == 0) & (pivoted_data.loc['8.pgm']['manual_filtered_image'] == 0)) "
   ]
  },
  {
   "cell_type": "code",
   "execution_count": null,
   "id": "0c6158e6-543f-4f8a-a2f7-0de1b554a0a7",
   "metadata": {},
   "outputs": [],
   "source": [
    "pivoted_data.loc['8.pgm']['ThContrastAdaptive'].shape"
   ]
  },
  {
   "cell_type": "code",
   "execution_count": null,
   "id": "bc081c1a-9c9e-4cbd-8b40-0c049ffcbea9",
   "metadata": {},
   "outputs": [],
   "source": [
    "TP = 0\n",
    "TN = 0\n",
    "FP = 0\n",
    "FN = 0\n",
    "maxX = pivoted_data.loc['8.pgm']['ThContrastAdaptive'].shape[0]\n",
    "maxY = pivoted_data.loc['8.pgm']['ThContrastAdaptive'].shape[1]\n",
    "for x in range(0, maxX):\n",
    "    for y in range(0,maxY):\n",
    "        if pivoted_data.loc['8.pgm']['ThContrastAdaptive'][x][y] == 255 and pivoted_data.loc['8.pgm']['manual_filtered_image'][x][y] == 255:\n",
    "            TP +=1\n",
    "        elif pivoted_data.loc['8.pgm']['ThContrastAdaptive'][x][y] == 255 and pivoted_data.loc['8.pgm']['manual_filtered_image'][x][y] == 0:\n",
    "            FP +=1\n",
    "        elif pivoted_data.loc['8.pgm']['ThContrastAdaptive'][x][y] == 0 and pivoted_data.loc['8.pgm']['manual_filtered_image'][x][y] == 0:\n",
    "            TN +=1\n",
    "        elif pivoted_data.loc['8.pgm']['ThContrastAdaptive'][x][y] == 0 and pivoted_data.loc['8.pgm']['manual_filtered_image'][x][y] == 255:\n",
    "            FN +=1"
   ]
  },
  {
   "cell_type": "code",
   "execution_count": null,
   "id": "8308764b-5e3d-4ca5-892d-f547d9522838",
   "metadata": {},
   "outputs": [],
   "source": [
    "TP"
   ]
  },
  {
   "cell_type": "code",
   "execution_count": null,
   "id": "0a877802-6d62-4776-8a5d-9fdfe6cfaedf",
   "metadata": {},
   "outputs": [],
   "source": [
    "FP"
   ]
  },
  {
   "cell_type": "code",
   "execution_count": null,
   "id": "79360eae-3b81-4403-af78-2ca2c648353e",
   "metadata": {},
   "outputs": [],
   "source": [
    "FN"
   ]
  },
  {
   "cell_type": "code",
   "execution_count": null,
   "id": "4c0d1748-3d46-43b4-a09e-f5efa03269b2",
   "metadata": {},
   "outputs": [],
   "source": [
    "(TP+TN)/pivoted_data.loc['8.pgm']['ThContrastAdaptive'].size"
   ]
  },
  {
   "cell_type": "code",
   "execution_count": null,
   "id": "b13a3585-9fd5-4898-b2ba-becf1b3cc61f",
   "metadata": {},
   "outputs": [],
   "source": [
    "TN"
   ]
  }
 ],
 "metadata": {
  "kernelspec": {
   "display_name": "Python 3 (ipykernel)",
   "language": "python",
   "name": "python3"
  },
  "language_info": {
   "codemirror_mode": {
    "name": "ipython",
    "version": 3
   },
   "file_extension": ".py",
   "mimetype": "text/x-python",
   "name": "python",
   "nbconvert_exporter": "python",
   "pygments_lexer": "ipython3",
   "version": "3.9.21"
  }
 },
 "nbformat": 4,
 "nbformat_minor": 5
}
